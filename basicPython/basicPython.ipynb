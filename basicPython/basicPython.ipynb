{
 "cells": [
  {
   "cell_type": "code",
   "execution_count": 27,
   "metadata": {},
   "outputs": [],
   "source": [
    "a = \"Арсен Дерпак\" #string\n",
    "b = 4 #int\n",
    "c = [\"Arsen\", 4, 4.5, \"Слово\"] #List\n",
    "d = {\"a\": \"Arsen\", \"b\": 4} # Dict\n",
    "e = (\"arsen\", \"Derpak\", 5, 4.5) # Tuple\n",
    "f = {\"Derpak\", 0, 1.5} # Set"
   ]
  },
  {
   "cell_type": "code",
   "execution_count": 28,
   "metadata": {},
   "outputs": [
    {
     "name": "stdout",
     "output_type": "stream",
     "text": [
      "Арсен Дерпак\n",
      "4\n",
      "['Arsen', 4, 4.5, 'Слово']\n",
      "{'a': 'Arsen', 'b': 4}\n",
      "('arsen', 'Derpak', 5, 4.5)\n",
      "{'Derpak', 0, 1.5}\n"
     ]
    }
   ],
   "source": [
    "print(a)\n",
    "print(b)\n",
    "print(c)\n",
    "print(d)\n",
    "print(e)\n",
    "print(f)"
   ]
  },
  {
   "cell_type": "code",
   "execution_count": 29,
   "metadata": {},
   "outputs": [
    {
     "name": "stdout",
     "output_type": "stream",
     "text": [
      "Hi True\n"
     ]
    }
   ],
   "source": [
    "print(\"Hi\", True) #вбудовані константи"
   ]
  },
  {
   "cell_type": "code",
   "execution_count": 30,
   "metadata": {},
   "outputs": [
    {
     "name": "stdout",
     "output_type": "stream",
     "text": [
      "5 16\n"
     ]
    }
   ],
   "source": [
    "print(max(-2, 5), pow(2, 4))"
   ]
  },
  {
   "cell_type": "code",
   "execution_count": 31,
   "metadata": {},
   "outputs": [
    {
     "name": "stdout",
     "output_type": "stream",
     "text": [
      "5\n",
      "4\n",
      "3\n",
      "2\n",
      "1\n"
     ]
    }
   ],
   "source": [
    "n = 5\n",
    "while(n>0):\n",
    "    print(n)\n",
    "    n -= 1"
   ]
  },
  {
   "cell_type": "code",
   "execution_count": 32,
   "metadata": {},
   "outputs": [
    {
     "name": "stdout",
     "output_type": "stream",
     "text": [
      "Перегляд фільму заборонено\n"
     ]
    }
   ],
   "source": [
    "age = 15\n",
    "if(age < 16):\n",
    "    print(\"Перегляд фільму заборонено\")\n",
    "else:\n",
    "    print(\"Перегляд фільму дозволено\")"
   ]
  },
  {
   "cell_type": "code",
   "execution_count": 33,
   "metadata": {},
   "outputs": [
    {
     "name": "stdout",
     "output_type": "stream",
     "text": [
      "Помилка: Ділення на нуль неможливе!\n",
      "Цей блок виконається завжди, навіть якщо виникне помилка або навіть якщо блок `except` не буде викликаний.\n"
     ]
    }
   ],
   "source": [
    "try:\n",
    "    result = 7/0\n",
    "    print(f\"Результат ділення: {result}\")\n",
    "except ZeroDivisionError:\n",
    "    print(\"Помилка: Ділення на нуль неможливе!\")\n",
    "finally:\n",
    "    print(\"Цей блок виконається завжди, навіть якщо виникне помилка або навіть якщо блок `except` не буде викликаний.\")"
   ]
  },
  {
   "cell_type": "code",
   "execution_count": 34,
   "metadata": {},
   "outputs": [
    {
     "name": "stdout",
     "output_type": "stream",
     "text": [
      "Вміст файлу:\n",
      "# Numerical_Methods\n",
      "Р¦РµР№ СЂРµРїРѕР·РёС‚РѕСЂС–Р№ СЃС‚РІРѕСЂРµРЅРѕ РІ РЅР°РІС‡Р°Р»СЊРЅРёС… С†С–Р»СЏС….\n",
      "\n",
      "**Р’Р»Р°СЃРЅРёРє СЂРµРїРѕР·РёС‚РѕСЂС–СЋ СЃС‚СѓРґРµРЅС‚ РіСЂСѓРїРё РљРќ-41 Р”РµСЂРїР°Рє РђСЂСЃРµРЅ**\n",
      "\n",
      "РЎРїРёСЃРѕРє СЂРѕР±С–С‚:\n",
      "1. РќР°Р»Р°С€С‚СѓРІР°РЅРЅСЏ СЃРµСЂРµРґРѕРІРёС‰Р°\n",
      "2. РЎС‚РІРѕСЂРµРЅРЅСЏ СЂРµРїРѕР·РёС‚РѕСЂС–СЋ С‚Р° СЂРѕР±РѕС‚Р° Р· РЅРёРј\n",
      "3. РћС„РѕСЂРјР»РµРЅРЅСЏ СЂРѕР±С–С‚ С‚Р° РїРµСЂС€Р° РїСЂРѕРіСЂР°РјР°\n",
      "4. РћСЃРЅРѕРІРё Python\n",
      "\n"
     ]
    }
   ],
   "source": [
    "with open(\"../README.md\", \"r\") as f:\n",
    "    content = f.read()\n",
    "    print(\"Вміст файлу:\")\n",
    "    print(content)"
   ]
  },
  {
   "cell_type": "code",
   "execution_count": 35,
   "metadata": {},
   "outputs": [
    {
     "name": "stdout",
     "output_type": "stream",
     "text": [
      "Результат додавання: 8\n",
      "Результат множення: 24\n"
     ]
    }
   ],
   "source": [
    "# Функція, яка додає два числа за допомогою lambda\n",
    "add_numbers = lambda x, y: x + y\n",
    "\n",
    "# Функція, яка множить два числа за допомогою lambda\n",
    "multiply_numbers = lambda x, y: x * y\n",
    "\n",
    "# Виклик функцій lambda\n",
    "result_addition = add_numbers(5, 3)\n",
    "result_multiplication = multiply_numbers(4, 6)\n",
    "\n",
    "# Виведення результатів\n",
    "print(f\"Результат додавання: {result_addition}\")\n",
    "print(f\"Результат множення: {result_multiplication}\")"
   ]
  }
 ],
 "metadata": {
  "kernelspec": {
   "display_name": "Python 3",
   "language": "python",
   "name": "python3"
  },
  "language_info": {
   "codemirror_mode": {
    "name": "ipython",
    "version": 3
   },
   "file_extension": ".py",
   "mimetype": "text/x-python",
   "name": "python",
   "nbconvert_exporter": "python",
   "pygments_lexer": "ipython3",
   "version": "3.12.0"
  }
 },
 "nbformat": 4,
 "nbformat_minor": 2
}
